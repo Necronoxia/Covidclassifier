{
 "cells": [
  {
   "cell_type": "code",
   "execution_count": 7,
   "metadata": {},
   "outputs": [
    {
     "name": "stdout",
     "output_type": "stream",
     "text": [
      "age?22\n",
      "gender?1\n",
      "Do you have fever?0\n",
      "Do you cough?0\n",
      "Do you have muscle sourness?0\n",
      "Do you have fatigue?0\n",
      "Do you have headache?0\n",
      "Do you have any respiratory symptoms?1\n",
      "Do you have any nasal congestion1\n",
      "Low chances of covid-19\n"
     ]
    }
   ],
   "source": [
    "import pandas as pd\n",
    "import numpy as np\n",
    "from sklearn.tree import DecisionTreeClassifier\n",
    "from sklearn.externals.six import StringIO\n",
    "from IPython.display import Image\n",
    "from sklearn.tree import export_graphviz\n",
    "import pydotplus\n",
    "#inputs\n",
    "age = input(\"age?\")\n",
    "sex = input(\"gender?\")\n",
    "fever = input(\"Do you have fever?\")\n",
    "cough= input(\"Do you cough?\")\n",
    "soreness= input(\"Do you have muscle sourness?\")\n",
    "fatigue= input(\"Do you have fatigue?\")\n",
    "headache= input(\"Do you have headache?\")\n",
    "respiratory= input(\"Do you have any respiratory symptoms?\")\n",
    "nasal= input(\"Do you have any nasal congestion?\")\n",
    "dataset = pd.read_csv(\"dataset_ml.csv\",encoding= 'unicode_escape')\n",
    "\n",
    "#decisiontree\n",
    "x = dataset.iloc[:,:-1]\n",
    "y = dataset.iloc[:,9]\n",
    "\n",
    "regressor = DecisionTreeClassifier()\n",
    "regressor.fit(x.iloc[:,0:9], y)\n",
    "\n",
    "x_in = np.array([age,sex,fever,cough,soreness,fatigue,headache,respiratory,nasal])\n",
    "y_pred = regressor.predict([x_in])\n",
    "\n",
    "y_pred\n",
    "if y_pred == 0:\n",
    "    print(\"Low chances of covid-19,might be purely based on age demographic\")\n",
    "else:\n",
    "    print(\"High chances of covid-19,might be purely based on age demographic\")\n",
    "\n",
    "if respiratory == 1:\n",
    "    print(\"Input lung x-ray\")\n",
    "    "
   ]
  },
  {
   "cell_type": "code",
   "execution_count": null,
   "metadata": {},
   "outputs": [],
   "source": [
    "import pandas as pd\n",
    "import numpy as np\n",
    "import matplotlib.pyplot as plt\n",
    "\n",
    "dataset = pd.read_csv('dataset_ml.csv')\n",
    "dataset.tail()\n",
    "dataset.count()\n",
    "\n"
   ]
  }
 ],
 "metadata": {
  "kernelspec": {
   "display_name": "tensorflowgpu",
   "language": "python",
   "name": "tensorflowgpu"
  },
  "language_info": {
   "codemirror_mode": {
    "name": "ipython",
    "version": 3
   },
   "file_extension": ".py",
   "mimetype": "text/x-python",
   "name": "python",
   "nbconvert_exporter": "python",
   "pygments_lexer": "ipython3",
   "version": "3.7.6"
  }
 },
 "nbformat": 4,
 "nbformat_minor": 4
}
